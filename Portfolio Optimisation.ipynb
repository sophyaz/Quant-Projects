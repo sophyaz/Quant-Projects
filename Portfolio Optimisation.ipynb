{
 "cells": [
  {
   "cell_type": "code",
   "execution_count": 8,
   "id": "c11d6660-b19e-4784-a8bf-6dfa2b74328d",
   "metadata": {},
   "outputs": [],
   "source": [
    "# Use the Sharpe Ratio (max return for lowest risk)\n",
    "import yfinance as yf \n",
    "import pandas as pd \n",
    "from datetime import datetime, timedelta\n",
    "import numpy as np\n",
    "from scipy.optimize import minimize"
   ]
  },
  {
   "cell_type": "code",
   "execution_count": 10,
   "id": "5ba03531-b702-4fa8-92e3-e0e7cb7e5a9f",
   "metadata": {},
   "outputs": [],
   "source": [
    "# Define the list of tickers \n",
    "tickers = ['SPY', 'BND', 'GLD', 'QQQ', 'VTI']"
   ]
  },
  {
   "cell_type": "code",
   "execution_count": 12,
   "id": "7d0577aa-c15b-4bb5-b869-a01989ea5a87",
   "metadata": {},
   "outputs": [],
   "source": [
    "# Set the end date\n",
    "end_date = datetime.today()"
   ]
  },
  {
   "cell_type": "code",
   "execution_count": 16,
   "id": "df5d0bec-253d-4f7d-b116-b00a9a698ff1",
   "metadata": {},
   "outputs": [
    {
     "name": "stdout",
     "output_type": "stream",
     "text": [
      "2019-12-03 18:52:36.933226\n"
     ]
    }
   ],
   "source": [
    "# Set the start date to 5 years ago \n",
    "start_date = end_date - timedelta(days = 5*365)\n",
    "print(start_date)"
   ]
  },
  {
   "cell_type": "code",
   "execution_count": 20,
   "id": "5113a756-729d-4586-80c2-ca4f6a2592f0",
   "metadata": {},
   "outputs": [],
   "source": [
    "# Create an empty DataFrame to store the adjusted close prices \n",
    "adj_close_df = pd.DataFrame()"
   ]
  },
  {
   "cell_type": "code",
   "execution_count": 22,
   "id": "2c16ddcc-bac7-4b82-81b4-1351634e9b2a",
   "metadata": {},
   "outputs": [
    {
     "name": "stderr",
     "output_type": "stream",
     "text": [
      "[*********************100%***********************]  1 of 1 completed\n",
      "[*********************100%***********************]  1 of 1 completed\n",
      "[*********************100%***********************]  1 of 1 completed\n",
      "[*********************100%***********************]  1 of 1 completed\n",
      "[*********************100%***********************]  1 of 1 completed\n"
     ]
    }
   ],
   "source": [
    "# Download the close prices for each ticker \n",
    "for ticker in tickers:\n",
    "    data = yf.download(ticker, start = start_date, end = end_date)\n",
    "    adj_close_df[ticker] = data['Adj Close']"
   ]
  },
  {
   "cell_type": "code",
   "execution_count": 24,
   "id": "fa65387e-da62-47e8-9412-472fdce9bc42",
   "metadata": {},
   "outputs": [
    {
     "name": "stdout",
     "output_type": "stream",
     "text": [
      "                   SPY        BND         GLD         QQQ         VTI\n",
      "Date                                                                 \n",
      "2019-12-03  286.548492  73.807060  139.110001  195.224823  145.771820\n",
      "2019-12-04  288.316437  73.658264  138.919998  196.213486  146.715088\n",
      "2019-12-05  288.834961  73.579536  139.000000  196.601181  146.927826\n",
      "2019-12-06  291.473114  73.483238  137.619995  198.704529  148.231705\n",
      "2019-12-09  290.556763  73.500740  137.580002  197.803162  147.760086\n",
      "...                ...        ...         ...         ...         ...\n",
      "2024-11-22  595.510010  72.589996  249.839996  505.790009  296.510010\n",
      "2024-11-25  597.530029  73.260002  242.479996  506.589996  297.959991\n",
      "2024-11-26  600.650024  73.129997  242.949997  509.309998  299.049988\n",
      "2024-11-27  598.830017  73.330002  243.490005  505.299988  298.200012\n",
      "2024-11-29  602.549988  73.599998  245.589996  509.739990  299.859985\n",
      "\n",
      "[1257 rows x 5 columns]\n"
     ]
    }
   ],
   "source": [
    "# Display the DataFrame\n",
    "print(adj_close_df)"
   ]
  },
  {
   "cell_type": "code",
   "execution_count": 28,
   "id": "01a1948e-3dcb-46b2-bba4-8e9ef978ba3d",
   "metadata": {},
   "outputs": [],
   "source": [
    "# Calculate the lognormal returns for each ticker \n",
    "log_returns = np.log(adj_close_df / adj_close_df.shift(1))"
   ]
  },
  {
   "cell_type": "code",
   "execution_count": 30,
   "id": "c06031fa-c7a2-4a38-82a7-c1e4d0ea1e71",
   "metadata": {},
   "outputs": [],
   "source": [
    "# Drop any missing values \n",
    "log_returns = log_returns.dropna()"
   ]
  },
  {
   "cell_type": "code",
   "execution_count": 32,
   "id": "049a9a4c-f97f-4f1c-b9da-69d7bcda6ac0",
   "metadata": {},
   "outputs": [],
   "source": [
    "# Calculate the covarience matrix using annualised log returns \n",
    "cov_matrix = log_returns.cov()*252"
   ]
  },
  {
   "cell_type": "code",
   "execution_count": 93,
   "id": "cbf3a8bb-9cf1-4772-b8f0-e7e5bb06092e",
   "metadata": {},
   "outputs": [],
   "source": [
    "# Calculate the portfolio standard deviation \n",
    "def standard_deviation(weights, cov_matrix):\n",
    "    variance = weights.T@cov_matrix@weights\n",
    "    return np.sqrt(variance)"
   ]
  },
  {
   "cell_type": "code",
   "execution_count": 89,
   "id": "a4dab9b8-0eb3-4c58-a26a-966e557b1b06",
   "metadata": {},
   "outputs": [],
   "source": [
    "# Calculate the expected return \n",
    "def expected_return(weights, log_returns):\n",
    "    return np.sum(log_returns.mean() * weights) * 252  # Annualized return"
   ]
  },
  {
   "cell_type": "code",
   "execution_count": 85,
   "id": "d11ac10c-2d4a-4aca-9057-23d03fdf9377",
   "metadata": {},
   "outputs": [],
   "source": [
    "# Calculate the Sharpe Ratio (measures the risk-adjusted return of an investment, indicating how much excess return is earned for each unit of risk taken.)\n",
    "def sharpe_ratio(weights, log_returns, cov_matrix, risk_free_rate):\n",
    "    return(expected_return(weights, log_returns) - risk_free_rate) / standard_deviation(weights, cov_matrix)"
   ]
  },
  {
   "cell_type": "code",
   "execution_count": null,
   "id": "8355f192-1e01-42e5-8b34-b51c4eb7e43a",
   "metadata": {},
   "outputs": [],
   "source": [
    "# Set the risk-free rate (use FRED API but in this case I just assumed the rate)\n",
    "risk_free_rate = 0.02 \n"
   ]
  },
  {
   "cell_type": "code",
   "execution_count": 40,
   "id": "e923e233-fa40-4ad7-b544-ea75a5b93d6d",
   "metadata": {},
   "outputs": [],
   "source": [
    "# Define the function to minimise (negative Sharpe Ratio)\n",
    "def neg_sharpe_ratio(weights, log_returns, cov_matrix, risk_free_rate):\n",
    "    return -sharpe_ratio(weights, log_returns, cov_matrix, risk_free_rate)"
   ]
  },
  {
   "cell_type": "code",
   "execution_count": 44,
   "id": "54f53f3d-9724-466a-8901-06b553c74d40",
   "metadata": {},
   "outputs": [],
   "source": [
    "# Set the constraints and bounds \n",
    "# Constraints making sure all the weights of the portfolio sum up to 1 \n",
    "constraints = {'type': 'eq', 'fun': lambda weights: np.sum(weights) - 1}\n",
    "# Bounds,lower bound means we cannot go short on any of these assets, upper bound to restrict\n",
    "bounds = {(0, 0.5) for _ in range(len(tickers))}"
   ]
  },
  {
   "cell_type": "code",
   "execution_count": 50,
   "id": "fa2ee3c1-19fa-403d-a0b2-33921305a8ff",
   "metadata": {},
   "outputs": [
    {
     "name": "stdout",
     "output_type": "stream",
     "text": [
      "[0.2 0.2 0.2 0.2 0.2]\n"
     ]
    }
   ],
   "source": [
    "# Set the initial weights \n",
    "initial_weights = np.array([1/len(tickers)]*len(tickers))\n",
    "print(initial_weights)"
   ]
  },
  {
   "cell_type": "code",
   "execution_count": 95,
   "id": "7b1ba6bc-0a62-47bc-a5b6-ab89988107f6",
   "metadata": {},
   "outputs": [],
   "source": [
    "# Optimise the weights to max the Sharpe Ratio\n",
    "optimized_results = minimize(\n",
    "    neg_sharpe_ratio,\n",
    "    initial_weights,\n",
    "    args=(log_returns, cov_matrix, risk_free_rate),\n",
    "    method='SLSQP',\n",
    "    constraints=constraints,\n",
    "    bounds=bounds\n",
    ")"
   ]
  },
  {
   "cell_type": "code",
   "execution_count": 97,
   "id": "5c991ce1-01ac-4cd8-81ae-02772fd76b1a",
   "metadata": {},
   "outputs": [],
   "source": [
    "# Get the optimal weights \n",
    "optimal_weights = optimized_results.x"
   ]
  },
  {
   "cell_type": "code",
   "execution_count": 99,
   "id": "01d7db7e-2679-4b5a-9fca-77f896ff3293",
   "metadata": {},
   "outputs": [
    {
     "name": "stdout",
     "output_type": "stream",
     "text": [
      "Optimal Weights:\n",
      "SPY: 0.0312\n",
      "BND: 0.0000\n",
      "GLD: 0.5000\n",
      "QQQ: 0.4688\n",
      "VTI: 0.0000\n",
      "\n",
      "Expected Annual Return: 0.1519\n",
      "Expected Volatility: 0.1588\n",
      "Sharpe Ratio: 0.8310\n"
     ]
    }
   ],
   "source": [
    "# Display the analytics of the optimal portfolio\n",
    "print('Optimal Weights:')\n",
    "for ticker, weight in zip(tickers, optimal_weights):\n",
    "    print(f'{ticker}: {weight:.4f}')\n",
    "\n",
    "print()\n",
    "\n",
    "optimal_portfolio_return = expected_return(optimal_weights, log_returns)\n",
    "optimal_portfolio_volatility = standard_deviation(optimal_weights, cov_matrix)\n",
    "optimal_sharpe_ratio = sharpe_ratio(optimal_weights, log_returns, cov_matrix, risk_free_rate)\n",
    "\n",
    "print(f'Expected Annual Return: {optimal_portfolio_return:.4f}')\n",
    "print(f'Expected Volatility: {optimal_portfolio_volatility:.4f}')\n",
    "print(f'Sharpe Ratio: {optimal_sharpe_ratio:.4f}')\n"
   ]
  },
  {
   "cell_type": "code",
   "execution_count": 103,
   "id": "47a1eacb-7bab-4c73-9fc6-548ebf719bfe",
   "metadata": {},
   "outputs": [
    {
     "data": {
      "image/png": "[encoded data removed]",
      "text/plain": [
       "<Figure size 1000x600 with 1 Axes>"
      ]
     },
     "metadata": {},
     "output_type": "display_data"
    }
   ],
   "source": [
    "# Display the final portfolio in a plot \n",
    "import matplotlib.pyplot as plt \n",
    "\n",
    "# Create a bar chart of the optimal weights \n",
    "plt.figure(figsize=(10,6))\n",
    "plt.bar(tickers, optimal_weights)\n",
    "\n",
    "# Add labels and a title \n",
    "plt.xlabel('Assets')\n",
    "plt.ylabel('Optimal Weights')\n",
    "plt.title('Optimal Portfolio Weights')\n",
    "\n",
    "#Display the chart \n",
    "plt.show()"
   ]
  },
  {
   "cell_type": "code",
   "execution_count": null,
   "id": "e8508d7a-355c-4f61-bc5f-55a3dfc8da18",
   "metadata": {},
   "outputs": [],
   "source": []
  }
 ],
 "metadata": {
  "kernelspec": {
   "display_name": "Python 3 (ipykernel)",
   "language": "python",
   "name": "python3"
  },
  "language_info": {
   "codemirror_mode": {
    "name": "ipython",
    "version": 3
   },
   "file_extension": ".py",
   "mimetype": "text/x-python",
   "name": "python",
   "nbconvert_exporter": "python",
   "pygments_lexer": "ipython3",
   "version": "3.12.4"
  }
 },
 "nbformat": 4,
 "nbformat_minor": 5
}
