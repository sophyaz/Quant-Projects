{
 "cells": [
  {
   "cell_type": "code",
   "execution_count": null,
   "id": "e1351279-f541-408b-b67d-72691ce5ef0b",
   "metadata": {},
   "outputs": [],
   "source": [
    "# Option Pricing using the Black-Scholes Model\n",
    "# In finance the Black-Scholes Model is one of the most widely used methods \n",
    "# for pricing option. It calculates the theoretical value of an option based on \n",
    "# five key variables \n",
    "\n",
    "# 1) Underlying Price (S)\n",
    "# 2) Strike Price (K) \n",
    "# 3) Time to Expiration (T) \n",
    "# 4) Risk Free Rate (r) \n",
    "# 5) Volatility "
   ]
  },
  {
   "cell_type": "code",
   "execution_count": 25,
   "id": "13668d3e-ad39-4a3d-b1e1-a5bf05d64e23",
   "metadata": {},
   "outputs": [
    {
     "name": "stdout",
     "output_type": "stream",
     "text": [
      "The value of d1 is:  0.7693\n",
      "The value of d2 is:  0.6278\n",
      "The price of the call option is: $ 4.76\n",
      "The price of the put option is: $ 0.81\n"
     ]
    }
   ],
   "source": [
    "import math \n",
    "from scipy.stats import norm \n",
    "\n",
    "# Define the variables \n",
    "S = 42 # Underlying Price of the stock \n",
    "K = 40 # Strike Price \n",
    "T = 0.5 # Time to Expiration \n",
    "r = 0.1 # Risk-Free Rate \n",
    "vol = 0.2 # Volatility \n",
    "\n",
    "# Calculate d1 using the formula \n",
    "d1 = (math.log(S/K) + (r + 0.5 * vol**2)*T) / (vol*math.sqrt(T)) \n",
    "\n",
    "# Calculate d2 \n",
    "d2 = d1 - (vol*math.sqrt(T))\n",
    "\n",
    "# Calculate Call Option Price \n",
    "C = S * norm.cdf(d1) - K * math.exp(-r * T) * norm.cdf(d2)\n",
    "\n",
    "#Calculate Put Option Price \n",
    "P = K * math.exp(-r * T) * norm.cdf(-d2) - S * norm.cdf(-d1)\n",
    "\n",
    "#Print the results \n",
    "print('The value of d1 is: ', round(d1, 4))\n",
    "print('The value of d2 is: ', round(d2, 4))\n",
    "print('The price of the call option is: $', round(C, 2))\n",
    "print('The price of the put option is: $', round(P, 2))\n"
   ]
  },
  {
   "cell_type": "code",
   "execution_count": null,
   "id": "8295181e-3f6b-4c20-b5a5-0c6a505c31ae",
   "metadata": {},
   "outputs": [],
   "source": []
  }
 ],
 "metadata": {
  "kernelspec": {
   "display_name": "Python 3 (ipykernel)",
   "language": "python",
   "name": "python3"
  },
  "language_info": {
   "codemirror_mode": {
    "name": "ipython",
    "version": 3
   },
   "file_extension": ".py",
   "mimetype": "text/x-python",
   "name": "python",
   "nbconvert_exporter": "python",
   "pygments_lexer": "ipython3",
   "version": "3.12.4"
  }
 },
 "nbformat": 4,
 "nbformat_minor": 5
}
