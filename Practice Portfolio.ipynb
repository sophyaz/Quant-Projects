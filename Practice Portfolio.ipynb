{
 "cells": [
  {
   "cell_type": "code",
   "execution_count": 7,
   "id": "8ca67548-fe98-4eeb-8724-546a24c5e2b9",
   "metadata": {},
   "outputs": [
    {
     "name": "stdout",
     "output_type": "stream",
     "text": [
      "Expected Monthly Return: 0.3750%\n",
      "99% Confidence Level 1-month VaR: $45,599.29\n",
      "95% Confidence Level 1-month VaR: $31,142.61\n"
     ]
    }
   ],
   "source": [
    "# Portfolio: Create a portfolio with 50% position in the S&P500, 50% position in 10-year treasuries and calculate the 99% \n",
    "# and 95% confidence level 1mth VAR.\n",
    "\n",
    "import numpy as np\n",
    "import scipy.stats as stats\n",
    "\n",
    "# Define portfolio parameters, how much of the portfolio is allocated to each asset\n",
    "initial_investment = 1_000_000  # Total portfolio value in dollars\n",
    "sp500_weight = 0.5  # Weight of S&P 500\n",
    "treasury_weight = 0.5  # Weight of 10-year treasuries\n",
    "\n",
    "# Assumed annualized volatility (standard deviation) and return\n",
    "sp500_annual_vol = 0.15  # 15% annualized volatility\n",
    "sp500_annual_return = 0.07  # 7% annual return\n",
    "\n",
    "treasury_annual_vol = 0.03  # 3% annualized volatility\n",
    "treasury_annual_return = 0.02  # 2% annual return\n",
    "\n",
    "# Correlation between S&P 500 and Treasuries (negative correlation assumed)\n",
    "correlation = -0.2\n",
    "\n",
    "# Convert annualized metrics to monthly\n",
    "sp500_monthly_vol = sp500_annual_vol / np.sqrt(12)\n",
    "sp500_monthly_return = sp500_annual_return / 12\n",
    "\n",
    "treasury_monthly_vol = treasury_annual_vol / np.sqrt(12)\n",
    "treasury_monthly_return = treasury_annual_return / 12\n",
    "\n",
    "# Portfolio volatility and return calculation\n",
    "portfolio_vol = np.sqrt(\n",
    "    (sp500_weight * sp500_monthly_vol) ** 2 +\n",
    "    (treasury_weight * treasury_monthly_vol) ** 2 +\n",
    "    2 * sp500_weight * treasury_weight * sp500_monthly_vol * treasury_monthly_vol * correlation\n",
    ")\n",
    "portfolio_return = sp500_weight * sp500_monthly_return + treasury_weight * treasury_monthly_return\n",
    "\n",
    "# Z-scores for 99% and 95% confidence levels\n",
    "z_99 = stats.norm.ppf(0.01)  # Z-score for 99% confidence\n",
    "z_95 = stats.norm.ppf(0.05)  # Z-score for 95% confidence\n",
    "\n",
    "# Calculate 1-month Value-at-Risk (VaR)\n",
    "var_99 = initial_investment * (portfolio_return + z_99 * portfolio_vol)\n",
    "var_95 = initial_investment * (portfolio_return + z_95 * portfolio_vol)\n",
    "\n",
    "# Display expected monthly return\n",
    "print(f\"Expected Monthly Return: {portfolio_return:.4%}\")\n",
    "\n",
    "# Display results\n",
    "print(f\"99% Confidence Level 1-month VaR: ${-var_99:,.2f}\")\n",
    "print(f\"95% Confidence Level 1-month VaR: ${-var_95:,.2f}\")"
   ]
  },
  {
   "cell_type": "code",
   "execution_count": null,
   "id": "1b136aa8-cc94-4205-ab4b-7341dfd853cd",
   "metadata": {},
   "outputs": [],
   "source": [
    "# with a 99% confidence, the portfolio will not exceed $45,599.29 a month \n",
    "# with a 95% confidence, the portfolio will not exceed $31,142.61 a month, so does that mean with a 95% confidence level you save more money?, \n",
    "# why choose a 99% confidence level over this "
   ]
  },
  {
   "cell_type": "code",
   "execution_count": null,
   "id": "5f3584be-37fe-4338-a95a-766d7a2796b4",
   "metadata": {},
   "outputs": [],
   "source": []
  }
 ],
 "metadata": {
  "kernelspec": {
   "display_name": "Python 3 (ipykernel)",
   "language": "python",
   "name": "python3"
  },
  "language_info": {
   "codemirror_mode": {
    "name": "ipython",
    "version": 3
   },
   "file_extension": ".py",
   "mimetype": "text/x-python",
   "name": "python",
   "nbconvert_exporter": "python",
   "pygments_lexer": "ipython3",
   "version": "3.12.4"
  }
 },
 "nbformat": 4,
 "nbformat_minor": 5
}
