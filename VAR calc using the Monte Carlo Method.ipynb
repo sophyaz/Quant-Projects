{
 "cells": [
  {
   "cell_type": "code",
   "execution_count": 3,
   "id": "ad7e5eec-db3f-4bbf-adb2-7f322f92b888",
   "metadata": {},
   "outputs": [],
   "source": [
    "import numpy as np\n",
    "import pandas as pd \n",
    "import datetime as dt\n",
    "import yfinance as yf \n",
    "import matplotlib.pyplot as plt \n",
    "from scipy.stats import norm "
   ]
  },
  {
   "cell_type": "code",
   "execution_count": 5,
   "id": "3caa1f6f-a1a1-43aa-b194-78136af7f8b6",
   "metadata": {},
   "outputs": [],
   "source": [
    "# Set time from to a certain number of years \n",
    "years = 15\n",
    "endDate = dt.datetime.now()\n",
    "startDate = endDate - dt.timedelta(days = 365 * years)"
   ]
  },
  {
   "cell_type": "code",
   "execution_count": 9,
   "id": "b6566458-a5df-492a-a25b-3e0d57b3b30d",
   "metadata": {},
   "outputs": [],
   "source": [
    "# Creating a list of tickers \n",
    "tickers = ['SPY', 'BND', 'GLD', 'QQQ', 'VTI']"
   ]
  },
  {
   "cell_type": "code",
   "execution_count": 17,
   "id": "926f86a2-7ace-457d-ac5c-e707426636d3",
   "metadata": {},
   "outputs": [
    {
     "name": "stderr",
     "output_type": "stream",
     "text": [
      "[*********************100%***********************]  1 of 1 completed\n",
      "[*********************100%***********************]  1 of 1 completed\n",
      "[*********************100%***********************]  1 of 1 completed\n",
      "[*********************100%***********************]  1 of 1 completed\n",
      "[*********************100%***********************]  1 of 1 completed"
     ]
    },
    {
     "name": "stdout",
     "output_type": "stream",
     "text": [
      "                   SPY        BND         GLD         QQQ         VTI\n",
      "Date                                                                 \n",
      "2010-01-04   86.026451  51.246937  109.800003   40.546196   43.747627\n",
      "2010-01-05   86.254158  51.396763  109.699997   40.546196   43.915562\n",
      "2010-01-06   86.314888  51.377193  111.510002   40.301624   43.976639\n",
      "2010-01-07   86.679276  51.338146  110.820000   40.327835   44.159832\n",
      "2010-01-08   86.967720  51.390259  111.370003   40.659752   44.304871\n",
      "...                ...        ...         ...         ...         ...\n",
      "2024-12-20  591.150024  71.976257  242.100006  517.824951  292.339020\n",
      "2024-12-23  594.690002  71.747002  240.960007  522.869995  294.000000\n",
      "2024-12-24  601.299988  71.849998  241.440002  529.960022  297.119995\n",
      "2024-12-26  601.340027  71.900002  243.070007  529.599976  297.290009\n",
      "2024-12-27  595.010010  71.750000  241.399994  522.559998  294.070007\n",
      "\n",
      "[3772 rows x 5 columns]\n"
     ]
    },
    {
     "name": "stderr",
     "output_type": "stream",
     "text": [
      "\n"
     ]
    }
   ],
   "source": [
    "# Download the daily adjusted close prices for the tickers\n",
    "# We use adjusted close prices as they account for dividends, stocks splits and\n",
    "# our analysis will be more accurate \n",
    "\n",
    "# Initialize an empty DataFrame to store the adjusted close prices\n",
    "adj_close_df = pd.DataFrame()\n",
    "\n",
    "# Loop through each ticker and fetch the data\n",
    "for ticker in tickers:\n",
    "    data = yf.download(ticker, start=startDate, end=endDate)\n",
    "    adj_close_df[ticker] = data['Adj Close']\n",
    "\n",
    "# Print the DataFrame\n",
    "print(adj_close_df)"
   ]
  },
  {
   "cell_type": "code",
   "execution_count": 19,
   "id": "32a59d78-94c1-4f7d-b2a4-16910bb39646",
   "metadata": {},
   "outputs": [
    {
     "name": "stdout",
     "output_type": "stream",
     "text": [
      "                 SPY       BND       GLD       QQQ       VTI\n",
      "Date                                                        \n",
      "2010-01-05  0.002643  0.002919 -0.000911  0.000000  0.003831\n",
      "2010-01-06  0.000704 -0.000381  0.016365 -0.006050  0.001390\n",
      "2010-01-07  0.004213 -0.000760 -0.006207  0.000650  0.004157\n",
      "2010-01-08  0.003322  0.001015  0.004951  0.008197  0.003279\n",
      "2010-01-11  0.001395  0.000380  0.013201 -0.004090  0.001378\n",
      "...              ...       ...       ...       ...       ...\n",
      "2024-12-20  0.011939  0.003051  0.010380  0.008695  0.011316\n",
      "2024-12-23  0.005970 -0.003190 -0.004720  0.009696  0.005666\n",
      "2024-12-24  0.011054  0.001435  0.001990  0.013469  0.010556\n",
      "2024-12-26  0.000067  0.000696  0.006728 -0.000680  0.000572\n",
      "2024-12-27 -0.010582 -0.002088 -0.006894 -0.013382 -0.010890\n",
      "\n",
      "[3771 rows x 5 columns]\n"
     ]
    }
   ],
   "source": [
    "# Calculate the daily log returns and drop any NAs\n",
    "log_returns = np.log(adj_close_df/adj_close_df.shift(1))\n",
    "log_returns = log_returns.dropna()\n",
    "\n",
    "print(log_returns)"
   ]
  },
  {
   "cell_type": "code",
   "execution_count": null,
   "id": "c5685b75-c645-48aa-a841-c870c260a6f0",
   "metadata": {},
   "outputs": [],
   "source": [
    "# Create a function that will be used to calculate portfolio expected return \n",
    "def expected_return(weights, log_returns):\n",
    "    return np.sum(log_returns.mean()*weights)"
   ]
  },
  {
   "cell_type": "code",
   "execution_count": 21,
   "id": "d3417e9e-33d9-416c-a5d0-09f68dbb1263",
   "metadata": {},
   "outputs": [],
   "source": [
    "# Create a function that will help us calculate portfolio standard deviation \n",
    "def standard_deviation (weights, cov_matrix):\n",
    "    variance = weights.T @cov_matrix @weights \n",
    "    return np.sqrt(variance)"
   ]
  },
  {
   "cell_type": "code",
   "execution_count": 25,
   "id": "60de5c06-5add-4f9b-9558-0c9b06fe0372",
   "metadata": {},
   "outputs": [
    {
     "name": "stdout",
     "output_type": "stream",
     "text": [
      "              SPY           BND       GLD       QQQ           VTI\n",
      "SPY  1.160648e-04  1.335204e-07  0.000006  0.000129  1.185087e-04\n",
      "BND  1.335204e-07  9.340009e-06  0.000009  0.000001  3.322877e-07\n",
      "GLD  5.807619e-06  9.012024e-06  0.000096  0.000007  6.367205e-06\n",
      "QQQ  1.290826e-04  1.017271e-06  0.000007  0.000166  1.318427e-04\n",
      "VTI  1.185087e-04  3.322877e-07  0.000006  0.000132  1.219807e-04\n"
     ]
    }
   ],
   "source": [
    "# Create a covariance matrix for all the securities \n",
    "cov_matrix = log_returns.cov()\n",
    "print (cov_matrix)"
   ]
  },
  {
   "cell_type": "code",
   "execution_count": 37,
   "id": "7d960c64-dd2b-4afe-ae73-981bdb2e5fb1",
   "metadata": {},
   "outputs": [],
   "source": [
    "# Create an equally weighted portfolio, find total portfolio expected returns and \n",
    "# standard deviation \n",
    "def expected_return(weights, log_returns):\n",
    "    return np.sum(log_returns.mean()*weights)\n",
    "\n",
    "def standard_deviation (weights, cov_matrix):\n",
    "    variance = weights.T @cov_matrix @weights \n",
    "    return np.sqrt(variance)\n",
    "\n",
    "portfolio_value = 1000000\n",
    "weights = np.array([1/len(tickers)]*len(tickers))\n",
    "portfolio_expected_return = expected_return (weights, log_returns)\n",
    "portfolio_std_dev = standard_deviation (weights, cov_matrix)"
   ]
  },
  {
   "cell_type": "code",
   "execution_count": 39,
   "id": "48a14e45-4a03-49e2-ac03-1ba5c10bee9a",
   "metadata": {},
   "outputs": [],
   "source": [
    "# Create a function that gives a random Z-score based on normal distribution \n",
    "def random_z_score():\n",
    "    return np.random.normal(0,1)"
   ]
  },
  {
   "cell_type": "code",
   "execution_count": 49,
   "id": "c4eea3a8-0f92-4e5b-a1ad-894638701e1e",
   "metadata": {},
   "outputs": [],
   "source": [
    "# Create a function to calculate scenarioGainLoss\n",
    "days = 20\n",
    "\n",
    "def scenario_gain_loss(portfolio_value, portfolio_std_dev, z_score, days):\n",
    "    return portfolio_value * portfolio_expected_return * days + portfolio_value * portfolio_std_dev * z_score * np.sqrt(days)"
   ]
  },
  {
   "cell_type": "code",
   "execution_count": 51,
   "id": "428316f4-3470-49e6-a69d-a90af28d3895",
   "metadata": {},
   "outputs": [],
   "source": [
    "# Run 1000 simulations \n",
    "simulations = 10000\n",
    "scenarioReturn = []\n",
    "\n",
    "for i in range(simulations):\n",
    "    z_score = random_z_score()\n",
    "    scenarioReturn.append(scenario_gain_loss(portfolio_value, portfolio_std_dev, z_score, days))\n",
    "    \n"
   ]
  },
  {
   "cell_type": "code",
   "execution_count": 53,
   "id": "74bf634f-3563-4abf-80e7-4bd44bc3da57",
   "metadata": {},
   "outputs": [
    {
     "name": "stdout",
     "output_type": "stream",
     "text": [
      "46862.598150408674\n"
     ]
    }
   ],
   "source": [
    "# Specifiy a confidence interval and calculate VAR\n",
    "confidence_interval = 0.95\n",
    "VaR = -np.percentile(scenarioReturn, 100 * (1 - confidence_interval))\n",
    "print(VaR)"
   ]
  },
  {
   "cell_type": "code",
   "execution_count": 57,
   "id": "33a9434c-1920-44cf-aee3-1faed8c4f50d",
   "metadata": {},
   "outputs": [
    {
     "data": {
      "image/png": "[encoded data removed]",
      "text/plain": [
       "<Figure size 640x480 with 1 Axes>"
      ]
     },
     "metadata": {},
     "output_type": "display_data"
    }
   ],
   "source": [
    "# Plot the results of all 1000 scenarios\n",
    "plt.hist(scenarioReturn, bins=50, density=True)\n",
    "plt.xlabel('Scenario Gain/Loss ($)')\n",
    "plt.ylabel('Frequency')\n",
    "plt.title(f'Distribution of Portfolio Gain/Loss Over {days} Days')\n",
    "plt.axvline(-VaR, color='r', linestyle='dashed', linewidth=2, \n",
    "            label=f'VaR at {confidence_interval:.0%} confidence level')\n",
    "plt.legend()\n",
    "plt.show()"
   ]
  },
  {
   "cell_type": "code",
   "execution_count": null,
   "id": "28948f2f-14b9-456a-b243-908075275e90",
   "metadata": {},
   "outputs": [],
   "source": []
  }
 ],
 "metadata": {
  "kernelspec": {
   "display_name": "Python 3 (ipykernel)",
   "language": "python",
   "name": "python3"
  },
  "language_info": {
   "codemirror_mode": {
    "name": "ipython",
    "version": 3
   },
   "file_extension": ".py",
   "mimetype": "text/x-python",
   "name": "python",
   "nbconvert_exporter": "python",
   "pygments_lexer": "ipython3",
   "version": "3.12.4"
  }
 },
 "nbformat": 4,
 "nbformat_minor": 5
}
